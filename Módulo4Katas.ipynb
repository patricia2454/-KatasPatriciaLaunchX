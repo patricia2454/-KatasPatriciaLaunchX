{
 "cells": [
  {
   "cell_type": "markdown",
   "metadata": {},
   "source": [
    "Ejercicio 1: Transformar cadenas"
   ]
  },
  {
   "cell_type": "code",
   "execution_count": 5,
   "metadata": {},
   "outputs": [
    {
     "name": "stdout",
     "output_type": "stream",
     "text": [
      "Separado por espacios es:  ['Interesting', 'facts', 'about', 'the Moon']\n"
     ]
    }
   ],
   "source": [
    "cadena = \"Interesting facts about the Moon\"\n",
    "separador = \" \"\n",
    "maximo_numero_de_separaciones = 3\n",
    "separado_por_espacios = cadena.split(separador, maximo_numero_de_separaciones)\n",
    "print(\"Separado por espacios es: \", separado_por_espacios)\n"
   ]
  },
  {
   "cell_type": "code",
   "execution_count": 6,
   "metadata": {},
   "outputs": [
    {
     "name": "stdout",
     "output_type": "stream",
     "text": [
      "Separado por espacios es:  ['The', 'Moon', 'is', \"Earth's only satellite\"]\n"
     ]
    }
   ],
   "source": [
    "cadena = \"The Moon is Earth's only satellite\"\n",
    "separador = \" \"\n",
    "maximo_numero_de_separaciones = 3\n",
    "separado_por_espacios = cadena.split(separador, maximo_numero_de_separaciones)\n",
    "print(\"Separado por espacios es: \", separado_por_espacios)\n"
   ]
  },
  {
   "cell_type": "code",
   "execution_count": 7,
   "metadata": {},
   "outputs": [
    {
     "name": "stdout",
     "output_type": "stream",
     "text": [
      "Separado por espacios es:  ['There', 'are', 'several', 'interesting', 'facts', 'about the Moon and how it affects life here on Earth. \\nOn average, the Moon moves 4cm away from the Earth every year']\n"
     ]
    }
   ],
   "source": [
    "cadena = \"\"\"There are several interesting facts about the Moon and how it affects life here on Earth. \n",
    "On average, the Moon moves 4cm away from the Earth every year\"\"\"\n",
    "separador = \" \"\n",
    "maximo_numero_de_separaciones = 5\n",
    "separado_por_espacios = cadena.split(separador, maximo_numero_de_separaciones)\n",
    "print(\"Separado por espacios es: \", separado_por_espacios)"
   ]
  },
  {
   "cell_type": "code",
   "execution_count": 8,
   "metadata": {},
   "outputs": [
    {
     "name": "stdout",
     "output_type": "stream",
     "text": [
      "Separado por espacios es:  ['This', 'yearly', 'drift', 'is', 'not significant enough to cause immediate effects on Earth']\n"
     ]
    }
   ],
   "source": [
    "cadena = \"This yearly drift is not significant enough to cause immediate effects on Earth\"\n",
    "separador = \" \"\n",
    "maximo_numero_de_separaciones = 4\n",
    "separado_por_espacios = cadena.split(separador, maximo_numero_de_separaciones)\n",
    "print(\"Separado por espacios es: \", separado_por_espacios)"
   ]
  },
  {
   "cell_type": "code",
   "execution_count": 17,
   "metadata": {},
   "outputs": [
    {
     "name": "stdout",
     "output_type": "stream",
     "text": [
      "average\n",
      "average\n",
      "average\n"
     ]
    }
   ],
   "source": [
    "for i in [\"average\", \"temperature\", \"distance\"]:\n",
    "    print(\"average\")\n",
    "    "
   ]
  }
 ],
 "metadata": {
  "interpreter": {
   "hash": "b3ba2566441a7c06988d0923437866b63cedc61552a5af99d1f4fb67d367b25f"
  },
  "kernelspec": {
   "display_name": "Python 3.8.8 ('base')",
   "language": "python",
   "name": "python3"
  },
  "language_info": {
   "codemirror_mode": {
    "name": "ipython",
    "version": 3
   },
   "file_extension": ".py",
   "mimetype": "text/x-python",
   "name": "python",
   "nbconvert_exporter": "python",
   "pygments_lexer": "ipython3",
   "version": "3.8.8"
  },
  "orig_nbformat": 4
 },
 "nbformat": 4,
 "nbformat_minor": 2
}
